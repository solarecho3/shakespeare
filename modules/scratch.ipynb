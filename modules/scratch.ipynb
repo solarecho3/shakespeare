{
 "cells": [
  {
   "cell_type": "code",
   "execution_count": null,
   "metadata": {},
   "outputs": [],
   "source": [
    "# andrej\n",
    "with open(\"/home/adam/Documents/repos/shakespeare/data/tinyshakespeare.txt\", 'r', encoding='utf-8') as f:\n",
    "    text = f.read()\n",
    "\n",
    "print(text[:100])\n",
    "chars = sorted(list(set(text)))\n",
    "chars\n",
    "len(chars)\n",
    "stoi = { ch:i for i,ch in enumerate(chars) }\n",
    "itos = { i:ch for i,ch in enumerate(chars) }\n",
    "encode = lambda s: [stoi[c] for c in s]\n",
    "decode = lambda l: ''.join([itos[i] for i in l])\n",
    "type(encode)\n",
    "encoded_text = encode(\"test\")\n",
    "print(encode(\"test\"))\n",
    "decode(encoded_text)\n",
    "import torch\n",
    "data = torch.tensor(encode(text), dtype=torch.long)\n",
    "print(data.shape, data.dtype)\n",
    "# print(data[:1000])\n",
    "n = int(0.9*len(data))\n",
    "train_data = data[:n]\n",
    "val_data = data[n:]\n",
    "# chunk size\n",
    "block_size = 8\n",
    "train_data[:block_size+1]"
   ]
  },
  {
   "attachments": {},
   "cell_type": "markdown",
   "metadata": {},
   "source": [
    "BEGIN MODULES\n"
   ]
  },
  {
   "cell_type": "code",
   "execution_count": 1,
   "metadata": {},
   "outputs": [
    {
     "name": "stdout",
     "output_type": "stream",
     "text": [
      "Text schema validated.\n"
     ]
    },
    {
     "data": {
      "text/plain": [
       "torch.Size([5535475])"
      ]
     },
     "execution_count": 1,
     "metadata": {},
     "output_type": "execute_result"
    }
   ],
   "source": [
    "import model\n",
    "dataloader = model.DataLoader()\n",
    "dataloader.load(data='complete')\n",
    "dataparser = model.DataParser(\n",
    "    vocab=\"char\",\n",
    "    data=dataloader)\n",
    "datatrainer = model.DataTrainer(\n",
    "    vocab=dataparser,\n",
    "    data=dataloader,\n",
    "    training_set_percentage=.9,\n",
    "    block_size=32,\n",
    "    batch_size=4)\n",
    "datatrainer.encoded_data.shape\n",
    "# train"
   ]
  },
  {
   "cell_type": "code",
   "execution_count": 2,
   "metadata": {},
   "outputs": [
    {
     "name": "stdout",
     "output_type": "stream",
     "text": [
      "2.5487680435180664\n",
      "\tr FIthade bor; dshoofoustithat, n In'df\n",
      " o K.\n",
      " FI t.\n",
      "MO,\n",
      "\n",
      " s nd s an.\n",
      "T.\n",
      "\n",
      " thor sake,\n",
      " RGourera KAExef shedy RAdvert hakne sthalicer?\n",
      "\n",
      "ANIACOfff winorayocu,\n",
      "Buctertie tsuse ace  RIAGEThe w  y, he   d\n",
      " t  I IUFAT.  hethy us wexce  beritharicreancad t tomut,\n",
      "NERShaplee hany y l,\n",
      "MOFO,\n",
      "\n",
      "ICAEBur thache.\n",
      "AR mer’thet TOrs my mf Kndengel.\n",
      "AR CEAnd   ghernth ancousanores antcoureneck.\n",
      "STrit. wift Be, me.\n",
      "ROUSScherivaitof  h;\n",
      " PInte.\n",
      " liviorersen ise s lo br hes fit ans.\n",
      "T.\n",
      "T wive t  fam’s houre taleand,\n"
     ]
    }
   ],
   "source": [
    "datatrainer.train()"
   ]
  },
  {
   "cell_type": "code",
   "execution_count": 4,
   "metadata": {},
   "outputs": [
    {
     "name": "stdout",
     "output_type": "stream",
     "text": [
      "tensor([[ 0.0485, -0.3131, -2.7844],\n",
      "        [ 0.3234,  0.9765,  0.9802]])\n",
      "tensor([[0.5697, 0.3968, 0.0335],\n",
      "        [0.2062, 0.3962, 0.3977]])\n"
     ]
    }
   ],
   "source": [
    "import torch\n",
    "softmax = torch.nn.Softmax(dim=1)\n",
    "input = torch.randn(2,3)\n",
    "print(input)\n",
    "output = softmax(input)\n",
    "print(output)"
   ]
  },
  {
   "cell_type": "code",
   "execution_count": null,
   "metadata": {},
   "outputs": [],
   "source": []
  }
 ],
 "metadata": {
  "kernelspec": {
   "display_name": "shakespeare-GVbhReMg",
   "language": "python",
   "name": "python3"
  },
  "language_info": {
   "codemirror_mode": {
    "name": "ipython",
    "version": 3
   },
   "file_extension": ".py",
   "mimetype": "text/x-python",
   "name": "python",
   "nbconvert_exporter": "python",
   "pygments_lexer": "ipython3",
   "version": "3.10.6"
  },
  "orig_nbformat": 4,
  "vscode": {
   "interpreter": {
    "hash": "cf86b9f6bb930033e566a40dd63d081835e399f85d06d6938fc5c109ab0fd6fd"
   }
  }
 },
 "nbformat": 4,
 "nbformat_minor": 2
}
