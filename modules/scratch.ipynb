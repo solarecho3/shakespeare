{
 "cells": [
  {
   "cell_type": "code",
   "execution_count": null,
   "metadata": {},
   "outputs": [],
   "source": [
    "# andrej\n",
    "with open(\"/home/adam/Documents/repos/shakespeare/data/tinyshakespeare.txt\", 'r', encoding='utf-8') as f:\n",
    "    text = f.read()\n",
    "\n",
    "print(text[:100])\n",
    "chars = sorted(list(set(text)))\n",
    "chars\n",
    "len(chars)\n",
    "stoi = { ch:i for i,ch in enumerate(chars) }\n",
    "itos = { i:ch for i,ch in enumerate(chars) }\n",
    "encode = lambda s: [stoi[c] for c in s]\n",
    "decode = lambda l: ''.join([itos[i] for i in l])\n",
    "type(encode)\n",
    "encoded_text = encode(\"test\")\n",
    "print(encode(\"test\"))\n",
    "decode(encoded_text)\n",
    "import torch\n",
    "data = torch.tensor(encode(text), dtype=torch.long)\n",
    "print(data.shape, data.dtype)\n",
    "# print(data[:1000])\n",
    "n = int(0.9*len(data))\n",
    "train_data = data[:n]\n",
    "val_data = data[n:]\n",
    "# chunk size\n",
    "block_size = 8\n",
    "train_data[:block_size+1]"
   ]
  },
  {
   "attachments": {},
   "cell_type": "markdown",
   "metadata": {},
   "source": [
    "BEGIN MODULES\n"
   ]
  },
  {
   "cell_type": "code",
   "execution_count": 5,
   "metadata": {},
   "outputs": [
    {
     "name": "stdout",
     "output_type": "stream",
     "text": [
      "Text schema validated.\n"
     ]
    },
    {
     "data": {
      "text/plain": [
       "torch.Size([5535475])"
      ]
     },
     "execution_count": 5,
     "metadata": {},
     "output_type": "execute_result"
    }
   ],
   "source": [
    "import model\n",
    "dataloader = model.DataLoader()\n",
    "dataloader.load(data='complete')\n",
    "dataparser = model.DataParser(\n",
    "    vocab=\"char\",\n",
    "    data=dataloader)\n",
    "datatrainer = model.DataTrainer(\n",
    "    vocab=dataparser,\n",
    "    data=dataloader,\n",
    "    training_set_percentage=.9,\n",
    "    block_size=8,\n",
    "    batch_size=4)\n",
    "datatrainer.encoded_data.shape\n",
    "# train"
   ]
  },
  {
   "cell_type": "code",
   "execution_count": 6,
   "metadata": {},
   "outputs": [
    {
     "name": "stdout",
     "output_type": "stream",
     "text": [
      "when input is tensor([49]) the target is: 68\n",
      "when input is tensor([49, 68]) the target is: 65\n",
      "when input is tensor([49, 68, 65]) the target is: 2\n",
      "when input is tensor([49, 68, 65,  2]) the target is: 45\n",
      "when input is tensor([49, 68, 65,  2, 45]) the target is: 78\n",
      "when input is tensor([49, 68, 65,  2, 45, 78]) the target is: 75\n",
      "when input is tensor([49, 68, 65,  2, 45, 78, 75]) the target is: 70\n",
      "when input is tensor([49, 68, 65,  2, 45, 78, 75, 70]) the target is: 65\n"
     ]
    }
   ],
   "source": [
    "datatrainer.train()"
   ]
  },
  {
   "cell_type": "code",
   "execution_count": null,
   "metadata": {},
   "outputs": [],
   "source": []
  }
 ],
 "metadata": {
  "kernelspec": {
   "display_name": "shakespeare-GVbhReMg",
   "language": "python",
   "name": "python3"
  },
  "language_info": {
   "codemirror_mode": {
    "name": "ipython",
    "version": 3
   },
   "file_extension": ".py",
   "mimetype": "text/x-python",
   "name": "python",
   "nbconvert_exporter": "python",
   "pygments_lexer": "ipython3",
   "version": "3.10.6"
  },
  "orig_nbformat": 4,
  "vscode": {
   "interpreter": {
    "hash": "cf86b9f6bb930033e566a40dd63d081835e399f85d06d6938fc5c109ab0fd6fd"
   }
  }
 },
 "nbformat": 4,
 "nbformat_minor": 2
}
